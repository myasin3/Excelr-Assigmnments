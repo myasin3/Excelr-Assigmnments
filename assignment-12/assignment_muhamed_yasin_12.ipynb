{
 "cells": [
  {
   "cell_type": "markdown",
   "id": "b305bcf3-42ab-4009-8654-0846eb5a0a52",
   "metadata": {},
   "source": [
    "-------\n",
    "# DATA PREPROCESSING AND FEATURE ENGINEERING IN MACHINE LEARNING\n",
    "-------"
   ]
  },
  {
   "cell_type": "markdown",
   "id": "a5f1f9ab-e28e-4387-9076-3ad168b5ed28",
   "metadata": {},
   "source": [
    "### OBJECTIVE :"
   ]
  },
  {
   "cell_type": "markdown",
   "id": "e43ff513-906b-45c5-a6ac-a45402c137f8",
   "metadata": {},
   "source": [
    "- Practical skills in data preprocessing, feature engineering, and feature selection techniques, which are crucial for building   efficient machine learning models"
   ]
  },
  {
   "cell_type": "markdown",
   "id": "dce83f34-0c03-49bb-b4da-b7412d055440",
   "metadata": {},
   "source": [
    "### DATA EXPLORATION AND PREPROCESSING :"
   ]
  },
  {
   "cell_type": "code",
   "execution_count": 5,
   "id": "2f4c2436-3f19-473d-b9c6-83d5c33e3a51",
   "metadata": {},
   "outputs": [],
   "source": [
    "import pandas as pd\n",
    "import numpy as np\n",
    "from sklearn.preprocessing import StandardScaler ,MinMaxScaler"
   ]
  },
  {
   "cell_type": "code",
   "execution_count": 6,
   "id": "3e350c5e-395f-431d-98d6-be6facc88540",
   "metadata": {},
   "outputs": [],
   "source": [
    "from sklearn.preprocessing import LabelEncoder"
   ]
  },
  {
   "cell_type": "code",
   "execution_count": 7,
   "id": "7786b448-3161-4805-915f-697fb6fd983a",
   "metadata": {},
   "outputs": [],
   "source": [
    "from sklearn.ensemble import IsolationForest"
   ]
  },
  {
   "cell_type": "code",
   "execution_count": 2,
   "id": "79e8902d-03ca-472f-9047-8f737f5b47fd",
   "metadata": {},
   "outputs": [
    {
     "ename": "ValueError",
     "evalue": "Key backend: 'module://matplotlib_inline.backend_inline' is not a valid value for backend; supported values are ['gtk3agg', 'gtk3cairo', 'gtk4agg', 'gtk4cairo', 'macosx', 'nbagg', 'notebook', 'qtagg', 'qtcairo', 'qt5agg', 'qt5cairo', 'tkagg', 'tkcairo', 'webagg', 'wx', 'wxagg', 'wxcairo', 'agg', 'cairo', 'pdf', 'pgf', 'ps', 'svg', 'template']",
     "output_type": "error",
     "traceback": [
      "\u001b[1;31m---------------------------------------------------------------------------\u001b[0m",
      "\u001b[1;31mValueError\u001b[0m                                Traceback (most recent call last)",
      "Cell \u001b[1;32mIn[2], line 2\u001b[0m\n\u001b[0;32m      1\u001b[0m \u001b[38;5;28;01mimport\u001b[39;00m \u001b[38;5;21;01mppscore\u001b[39;00m \u001b[38;5;28;01mas\u001b[39;00m \u001b[38;5;21;01mpps\u001b[39;00m\n\u001b[1;32m----> 2\u001b[0m \u001b[38;5;28;01mimport\u001b[39;00m \u001b[38;5;21;01mseaborn\u001b[39;00m \u001b[38;5;28;01mas\u001b[39;00m \u001b[38;5;21;01msns\u001b[39;00m\n\u001b[0;32m      3\u001b[0m \u001b[38;5;28;01mimport\u001b[39;00m \u001b[38;5;21;01mmatplotlib\u001b[39;00m\u001b[38;5;21;01m.\u001b[39;00m\u001b[38;5;21;01mpyplot\u001b[39;00m \u001b[38;5;28;01mas\u001b[39;00m \u001b[38;5;21;01mplt\u001b[39;00m\n",
      "File \u001b[1;32m~\\anaconda3\\Lib\\site-packages\\seaborn\\__init__.py:2\u001b[0m\n\u001b[0;32m      1\u001b[0m \u001b[38;5;66;03m# Import seaborn objects\u001b[39;00m\n\u001b[1;32m----> 2\u001b[0m \u001b[38;5;28;01mfrom\u001b[39;00m \u001b[38;5;21;01m.\u001b[39;00m\u001b[38;5;21;01mrcmod\u001b[39;00m \u001b[38;5;28;01mimport\u001b[39;00m \u001b[38;5;241m*\u001b[39m  \u001b[38;5;66;03m# noqa: F401,F403\u001b[39;00m\n\u001b[0;32m      3\u001b[0m \u001b[38;5;28;01mfrom\u001b[39;00m \u001b[38;5;21;01m.\u001b[39;00m\u001b[38;5;21;01mutils\u001b[39;00m \u001b[38;5;28;01mimport\u001b[39;00m \u001b[38;5;241m*\u001b[39m  \u001b[38;5;66;03m# noqa: F401,F403\u001b[39;00m\n\u001b[0;32m      4\u001b[0m \u001b[38;5;28;01mfrom\u001b[39;00m \u001b[38;5;21;01m.\u001b[39;00m\u001b[38;5;21;01mpalettes\u001b[39;00m \u001b[38;5;28;01mimport\u001b[39;00m \u001b[38;5;241m*\u001b[39m  \u001b[38;5;66;03m# noqa: F401,F403\u001b[39;00m\n",
      "File \u001b[1;32m~\\anaconda3\\Lib\\site-packages\\seaborn\\rcmod.py:3\u001b[0m\n\u001b[0;32m      1\u001b[0m \u001b[38;5;124;03m\"\"\"Control plot style and scaling using the matplotlib rcParams interface.\"\"\"\u001b[39;00m\n\u001b[0;32m      2\u001b[0m \u001b[38;5;28;01mimport\u001b[39;00m \u001b[38;5;21;01mfunctools\u001b[39;00m\n\u001b[1;32m----> 3\u001b[0m \u001b[38;5;28;01mimport\u001b[39;00m \u001b[38;5;21;01mmatplotlib\u001b[39;00m \u001b[38;5;28;01mas\u001b[39;00m \u001b[38;5;21;01mmpl\u001b[39;00m\n\u001b[0;32m      4\u001b[0m \u001b[38;5;28;01mfrom\u001b[39;00m \u001b[38;5;21;01mcycler\u001b[39;00m \u001b[38;5;28;01mimport\u001b[39;00m cycler\n\u001b[0;32m      5\u001b[0m \u001b[38;5;28;01mfrom\u001b[39;00m \u001b[38;5;21;01m.\u001b[39;00m \u001b[38;5;28;01mimport\u001b[39;00m palettes\n",
      "File \u001b[1;32m~\\anaconda3\\Lib\\site-packages\\matplotlib\\__init__.py:1270\u001b[0m\n\u001b[0;32m   1266\u001b[0m     rcParams[\u001b[38;5;124m'\u001b[39m\u001b[38;5;124mbackend_fallback\u001b[39m\u001b[38;5;124m'\u001b[39m] \u001b[38;5;241m=\u001b[39m \u001b[38;5;28;01mFalse\u001b[39;00m\n\u001b[0;32m   1269\u001b[0m \u001b[38;5;28;01mif\u001b[39;00m os\u001b[38;5;241m.\u001b[39menviron\u001b[38;5;241m.\u001b[39mget(\u001b[38;5;124m'\u001b[39m\u001b[38;5;124mMPLBACKEND\u001b[39m\u001b[38;5;124m'\u001b[39m):\n\u001b[1;32m-> 1270\u001b[0m     rcParams[\u001b[38;5;124m'\u001b[39m\u001b[38;5;124mbackend\u001b[39m\u001b[38;5;124m'\u001b[39m] \u001b[38;5;241m=\u001b[39m os\u001b[38;5;241m.\u001b[39menviron\u001b[38;5;241m.\u001b[39mget(\u001b[38;5;124m'\u001b[39m\u001b[38;5;124mMPLBACKEND\u001b[39m\u001b[38;5;124m'\u001b[39m)\n\u001b[0;32m   1273\u001b[0m \u001b[38;5;28;01mdef\u001b[39;00m \u001b[38;5;21mget_backend\u001b[39m():\n\u001b[0;32m   1274\u001b[0m \u001b[38;5;250m    \u001b[39m\u001b[38;5;124;03m\"\"\"\u001b[39;00m\n\u001b[0;32m   1275\u001b[0m \u001b[38;5;124;03m    Return the name of the current backend.\u001b[39;00m\n\u001b[0;32m   1276\u001b[0m \n\u001b[1;32m   (...)\u001b[0m\n\u001b[0;32m   1279\u001b[0m \u001b[38;5;124;03m    matplotlib.use\u001b[39;00m\n\u001b[0;32m   1280\u001b[0m \u001b[38;5;124;03m    \"\"\"\u001b[39;00m\n",
      "File \u001b[1;32m~\\anaconda3\\Lib\\site-packages\\matplotlib\\__init__.py:738\u001b[0m, in \u001b[0;36mRcParams.__setitem__\u001b[1;34m(self, key, val)\u001b[0m\n\u001b[0;32m    736\u001b[0m         cval \u001b[38;5;241m=\u001b[39m \u001b[38;5;28mself\u001b[39m\u001b[38;5;241m.\u001b[39mvalidate[key](val)\n\u001b[0;32m    737\u001b[0m     \u001b[38;5;28;01mexcept\u001b[39;00m \u001b[38;5;167;01mValueError\u001b[39;00m \u001b[38;5;28;01mas\u001b[39;00m ve:\n\u001b[1;32m--> 738\u001b[0m         \u001b[38;5;28;01mraise\u001b[39;00m \u001b[38;5;167;01mValueError\u001b[39;00m(\u001b[38;5;124mf\u001b[39m\u001b[38;5;124m\"\u001b[39m\u001b[38;5;124mKey \u001b[39m\u001b[38;5;132;01m{\u001b[39;00mkey\u001b[38;5;132;01m}\u001b[39;00m\u001b[38;5;124m: \u001b[39m\u001b[38;5;132;01m{\u001b[39;00mve\u001b[38;5;132;01m}\u001b[39;00m\u001b[38;5;124m\"\u001b[39m) \u001b[38;5;28;01mfrom\u001b[39;00m \u001b[38;5;28;01mNone\u001b[39;00m\n\u001b[0;32m    739\u001b[0m     \u001b[38;5;28mself\u001b[39m\u001b[38;5;241m.\u001b[39m_set(key, cval)\n\u001b[0;32m    740\u001b[0m \u001b[38;5;28;01mexcept\u001b[39;00m \u001b[38;5;167;01mKeyError\u001b[39;00m \u001b[38;5;28;01mas\u001b[39;00m err:\n",
      "\u001b[1;31mValueError\u001b[0m: Key backend: 'module://matplotlib_inline.backend_inline' is not a valid value for backend; supported values are ['gtk3agg', 'gtk3cairo', 'gtk4agg', 'gtk4cairo', 'macosx', 'nbagg', 'notebook', 'qtagg', 'qtcairo', 'qt5agg', 'qt5cairo', 'tkagg', 'tkcairo', 'webagg', 'wx', 'wxagg', 'wxcairo', 'agg', 'cairo', 'pdf', 'pgf', 'ps', 'svg', 'template']"
     ]
    }
   ],
   "source": [
    "import ppscore as pps\n",
    "import seaborn as sns\n",
    "import matplotlib.pyplot as plt"
   ]
  },
  {
   "cell_type": "code",
   "execution_count": null,
   "id": "9c9261c2-688d-44ee-a7c3-25edfe98cb82",
   "metadata": {},
   "outputs": [],
   "source": [
    "df=pd.read_csv('adult_with_headers.csv')"
   ]
  },
  {
   "cell_type": "code",
   "execution_count": null,
   "id": "a0b60eea-35b5-4e2c-ae52-4093824293cc",
   "metadata": {},
   "outputs": [],
   "source": [
    "df"
   ]
  },
  {
   "cell_type": "code",
   "execution_count": null,
   "id": "60723a9b-f7c7-47d1-bd62-bd4df4e82732",
   "metadata": {},
   "outputs": [],
   "source": [
    "df.info()"
   ]
  },
  {
   "cell_type": "code",
   "execution_count": null,
   "id": "33991865-37bb-44ae-a19b-96093b67ff26",
   "metadata": {},
   "outputs": [],
   "source": [
    "df.describe()"
   ]
  },
  {
   "cell_type": "code",
   "execution_count": null,
   "id": "8f4d957a-2776-4e6d-af76-b0f109661b73",
   "metadata": {},
   "outputs": [],
   "source": [
    "df.isnull().sum()"
   ]
  },
  {
   "cell_type": "code",
   "execution_count": null,
   "id": "1b77ce1d-a7db-44e7-8335-9641b160fadf",
   "metadata": {},
   "outputs": [],
   "source": [
    "num_col=['age','fnlwgt','education_num','capital_gain','capital_loss','hours_per_week']"
   ]
  },
  {
   "cell_type": "code",
   "execution_count": null,
   "id": "5824d330-72b3-4621-bee8-75b3be669b7f",
   "metadata": {},
   "outputs": [],
   "source": [
    "ss=StandardScaler()\n",
    "mms=MinMaxScaler()"
   ]
  },
  {
   "cell_type": "code",
   "execution_count": null,
   "id": "bfc612dd-9957-4c17-981c-dd4cff9a9328",
   "metadata": {},
   "outputs": [],
   "source": [
    "df_ss=df.copy()\n",
    "df_ss[num_col]=ss.fit_transform(df[num_col])"
   ]
  },
  {
   "cell_type": "code",
   "execution_count": null,
   "id": "e540c67b-f517-4b51-9089-48e8004b4878",
   "metadata": {},
   "outputs": [],
   "source": [
    "df_mm=df.copy()\n",
    "df_mm[num_col]=mms.fit_transform(df[num_col])"
   ]
  },
  {
   "cell_type": "code",
   "execution_count": null,
   "id": "8f3d4139-2294-4ead-87f4-8fab5563bd3a",
   "metadata": {},
   "outputs": [],
   "source": [
    "df_ss"
   ]
  },
  {
   "cell_type": "code",
   "execution_count": null,
   "id": "315b43d6-e9f3-4f76-b761-e293f2276491",
   "metadata": {},
   "outputs": [],
   "source": [
    "df_mm"
   ]
  },
  {
   "cell_type": "markdown",
   "id": "74867ff5-085f-4c7e-9d68-0c57c8d89750",
   "metadata": {},
   "source": [
    "#### UNDERSTANDING FROM SCALING TECHNIQUES :"
   ]
  },
  {
   "cell_type": "markdown",
   "id": "d81e0eea-e31c-4c0f-ad4a-42cfe0752951",
   "metadata": {},
   "source": [
    "- Standard Scaling:\n",
    "   * It transforms the data so that it has a mean of 0 and a standard deviation of 1\n",
    "   * Good for data that is normally distributed\n",
    "   * Best for algorithms that assume normality in the data (e.g., Logistic Regression, SVM, K-Means)\n",
    "\n",
    "- Min-Max Scaling:\n",
    "  * It scales data to fit between 0 and 1\n",
    "  * Ideal for algorithms that are sensitive to the scale of features (e.g., k-NN, Neural Networks)\n",
    "  * Suitable for features with varying ranges or when you need to preserve relative distances\n",
    "\n"
   ]
  },
  {
   "cell_type": "markdown",
   "id": "3e7076fc-8e4c-41bc-87e0-0d76fe6ed5a9",
   "metadata": {},
   "source": [
    "### ENCODING TECHNIQUES :"
   ]
  },
  {
   "cell_type": "code",
   "execution_count": null,
   "id": "78500842-b4a1-4eea-899f-f544f80a78d3",
   "metadata": {},
   "outputs": [],
   "source": [
    "cat_col=df.select_dtypes(include=['object']).columns\n",
    "cat_col"
   ]
  },
  {
   "cell_type": "code",
   "execution_count": null,
   "id": "55ed4510-57b3-41d1-b060-1a5ce48eb31b",
   "metadata": {},
   "outputs": [],
   "source": [
    "cat_cnt = {col: df[col].nunique() for col in cat_col}\n",
    "cat_cnt"
   ]
  },
  {
   "cell_type": "markdown",
   "id": "6eb49911-3dd2-4c2e-8ebb-87ec34077f34",
   "metadata": {},
   "source": [
    "- From the analysis of unique items :-\n",
    "  - Low Cardinality (Gender: Male, Female): One-Hot Encoding creates 2 columns, \"Male\" and \"Female\", which is manageable.\n",
    "  - High Cardinality (native_country): If you use One-Hot Encoding for hundreds of cities, it would create hundreds of new columns, which is inefficient. Label Encoding assigns integers like 0, 1, 2, etc., to each city, keeping it compact."
   ]
  },
  {
   "cell_type": "code",
   "execution_count": null,
   "id": "661eedb2-6be3-41b4-a3fe-99deeccaccd8",
   "metadata": {},
   "outputs": [],
   "source": [
    "one_hot_col = [col for col in cat_col if cat_cnt[col] < 5]\n",
    "label_col = [col for col in cat_col if cat_cnt[col] >= 5]\n",
    "label_col,one_hot_col"
   ]
  },
  {
   "cell_type": "code",
   "execution_count": null,
   "id": "c2ba5580-f83a-4391-9a09-89046a18fd4d",
   "metadata": {},
   "outputs": [],
   "source": [
    "df_hot = pd.get_dummies(df, columns=one_hot_col)\n",
    "df_hot"
   ]
  },
  {
   "cell_type": "code",
   "execution_count": null,
   "id": "46f6fec4-64d5-483d-bec5-e10ce97bcbd2",
   "metadata": {},
   "outputs": [],
   "source": [
    "label_encoder=LabelEncoder()\n",
    "df_label=df_hot.copy()\n",
    "for col in label_col :\n",
    "    df_label[col]=label_encoder.fit_transform(df_label[col])"
   ]
  },
  {
   "cell_type": "code",
   "execution_count": null,
   "id": "e090e315-f1c2-461e-9058-3a0c707e073d",
   "metadata": {
    "scrolled": true
   },
   "outputs": [],
   "source": [
    "df_label"
   ]
  },
  {
   "cell_type": "markdown",
   "id": "77294ba1-0875-4ccb-b281-790937ed2927",
   "metadata": {},
   "source": [
    "### Pros and Cons of One-Hot Encoding :\n",
    "  - Pros :\n",
    "    - It avoids introducing any ordinal relationship between categories\n",
    "    - Works well with algorithms that don’t assume any specific order (e.g., tree-based methods)\n",
    "    - Makes it easier to interpret the data, as each category gets its own column\n",
    "  - Cons :\n",
    "    - Can lead to a large number of columns, especially for features with many categories\n",
    "    - Creates sparse matrices (many zeros), which can increase computational complexity\n",
    "   \n",
    "      \n",
    "- Pros and Cons of Label Encoding  :\n",
    "  - Pros :\n",
    "    - Uses a single column, leading to less memory consumption\n",
    "    - Faster to compute since it assigns integer labels\n",
    "  - Cons :\n",
    "    - It assumes an ordinal relationship between categories, which may not always be appropriate\n",
    "    - Can negatively affect models that are sensitive to the numerical magnitude of features (e.g., linear models)"
   ]
  },
  {
   "cell_type": "markdown",
   "id": "cee04046-de42-4ce9-900f-a2ea252138ef",
   "metadata": {},
   "source": [
    "#### NEW BENEFICIAL FEATURE :"
   ]
  },
  {
   "cell_type": "code",
   "execution_count": null,
   "id": "8b8df2b1-257b-445b-84c1-cab6e889b792",
   "metadata": {},
   "outputs": [],
   "source": [
    "df['working_hours']=df['capital_gain']/(df['hours_per_week']+1)"
   ]
  },
  {
   "cell_type": "code",
   "execution_count": null,
   "id": "6cf74773-0798-4bfe-ab7e-a312106c347a",
   "metadata": {},
   "outputs": [],
   "source": [
    "df"
   ]
  },
  {
   "cell_type": "code",
   "execution_count": null,
   "id": "cafbbc0c-e7dd-4ce0-aefb-6a26b9d56b25",
   "metadata": {},
   "outputs": [],
   "source": [
    "df['capital_net_gain']=df['capital_gain']-df['capital_loss']"
   ]
  },
  {
   "cell_type": "code",
   "execution_count": null,
   "id": "4360de30-51ae-4029-a04e-bbc917a39f47",
   "metadata": {},
   "outputs": [],
   "source": [
    "df"
   ]
  },
  {
   "cell_type": "code",
   "execution_count": null,
   "id": "37dc71f4-a87e-4990-9280-d6c00e66a320",
   "metadata": {},
   "outputs": [],
   "source": [
    "df['age_group'] = pd.cut(df['age'], bins=[0, 25, 45, 65, 90], labels=['Young', 'Middle-aged', 'Senior', 'Old'])"
   ]
  },
  {
   "cell_type": "code",
   "execution_count": null,
   "id": "0612d760-bcd7-4889-bfdc-f71303fecead",
   "metadata": {},
   "outputs": [],
   "source": [
    "df"
   ]
  },
  {
   "cell_type": "markdown",
   "id": "237713cf-b6e2-4e80-83b5-562da06d7d9a",
   "metadata": {},
   "source": [
    "- Transformation :- Log Transformation\n",
    "     - The capital_gain feature is often highly skewed with many values concentrated at zero and a few very high values\n",
    "     - A log transformation will reduce the skewness by compressing the range of high values\n",
    "     - Helping the model better differentiate income levels while preventing extreme values from distorting predictions"
   ]
  },
  {
   "cell_type": "code",
   "execution_count": null,
   "id": "15fdaf53-d76c-4dd2-97e6-2207b6176098",
   "metadata": {},
   "outputs": [],
   "source": [
    "df['log_capital_gain'] = np.log1p(df['capital_gain'])"
   ]
  },
  {
   "cell_type": "code",
   "execution_count": null,
   "id": "4de2a851-f13d-4e55-a04e-bb751898565f",
   "metadata": {},
   "outputs": [],
   "source": [
    "df"
   ]
  },
  {
   "cell_type": "markdown",
   "id": "f2ccd8c0-1722-42e6-9a23-08a9afcb768c",
   "metadata": {},
   "source": [
    "### FEATURE SELECTION :"
   ]
  },
  {
   "cell_type": "markdown",
   "id": "e4cb8470-15c9-4ba1-bd61-c15895249dd1",
   "metadata": {},
   "source": [
    "#### ISOLATION FOREST TO DETECT AND REMOVE OUTLIERS :"
   ]
  },
  {
   "cell_type": "code",
   "execution_count": null,
   "id": "be275bc6-d757-46b9-837d-c07789493e57",
   "metadata": {},
   "outputs": [],
   "source": [
    "iso_f=IsolationForest(contamination=0.05,random_state=42)\n",
    "outliers=iso_f.fit_predict(df.select_dtypes(include=['float64','int64']))\n",
    "df['outlier']=outliers"
   ]
  },
  {
   "cell_type": "code",
   "execution_count": null,
   "id": "737c9af7-29a0-485f-ac10-af316643a4b0",
   "metadata": {},
   "outputs": [],
   "source": [
    "df_out=df[df['outlier']!=-1].drop(columns='outlier')"
   ]
  },
  {
   "cell_type": "code",
   "execution_count": null,
   "id": "4bb5ff37-cb08-442f-840c-46f9730b5e78",
   "metadata": {},
   "outputs": [],
   "source": [
    "df_out.shape,df.shape"
   ]
  },
  {
   "cell_type": "markdown",
   "id": "4ecd2555-1353-4a49-99d2-5ca4261d6f82",
   "metadata": {},
   "source": [
    "#### PPS (PREDICTIVE POWER SCORE) AND CORRELATION MATRIX :"
   ]
  },
  {
   "cell_type": "code",
   "execution_count": null,
   "id": "b2ba5086-fbf2-4deb-8574-68cea3be94fc",
   "metadata": {},
   "outputs": [],
   "source": [
    "pps_matrix=pps.matrix(df_out)"
   ]
  },
  {
   "cell_type": "code",
   "execution_count": null,
   "id": "b988be74-b038-46f8-af6f-d3d874106545",
   "metadata": {},
   "outputs": [],
   "source": [
    "plt.figure(figsize=(12,8))\n",
    "sns.heatmap(pps_matrix.pivot('x','y','ppscore'),annot=True,cmap='coolwarm')\n",
    "plt.title('PPS Matrix - PPS Heatmap')\n",
    "plt.show()"
   ]
  },
  {
   "cell_type": "code",
   "execution_count": null,
   "id": "eabd2b1b-fd79-4988-9420-6c0f156e7bf4",
   "metadata": {},
   "outputs": [],
   "source": [
    "plt.figure(figsize=(12, 8))\n",
    "sns.heatmap(df_out.corr(), annot=True, cmap=\"coolwarm\", linewidths=0.5)\n",
    "plt.title('Correlation Matrix Heatmap')\n",
    "plt.show()"
   ]
  },
  {
   "cell_type": "markdown",
   "id": "6fa8253c-77a3-423d-b584-2bf85afe01d4",
   "metadata": {},
   "source": [
    "- PPS (Predictive Power Score) :-\n",
    "    -  detects both linear and non-linear relationships between features\n",
    "    -   It provides more flexibility compared to correlation, which is limited to linear relationships\n",
    "- Correlation Matrix :-\n",
    "    -  Focuses on linear relationships\n",
    "    -   Positive and negative correlations can be interpreted based on the sign of the values"
   ]
  }
 ],
 "metadata": {
  "kernelspec": {
   "display_name": "Python 3 (ipykernel)",
   "language": "python",
   "name": "python3"
  },
  "language_info": {
   "codemirror_mode": {
    "name": "ipython",
    "version": 3
   },
   "file_extension": ".py",
   "mimetype": "text/x-python",
   "name": "python",
   "nbconvert_exporter": "python",
   "pygments_lexer": "ipython3",
   "version": "3.12.4"
  }
 },
 "nbformat": 4,
 "nbformat_minor": 5
}
