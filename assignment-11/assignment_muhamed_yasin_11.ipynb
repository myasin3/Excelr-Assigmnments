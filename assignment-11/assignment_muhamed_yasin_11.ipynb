{
 "cells": [
  {
   "cell_type": "markdown",
   "id": "5f97bf1f-4fd6-4359-9b33-fb6b277a0cb4",
   "metadata": {},
   "source": [
    "----\n",
    "# **RECOMMENTATION SYSYTEM**\n",
    "-----"
   ]
  },
  {
   "cell_type": "markdown",
   "id": "4742902a-436b-4c40-9534-5e5ce03ff15b",
   "metadata": {},
   "source": [
    "### OBJECTIVE :"
   ]
  },
  {
   "cell_type": "markdown",
   "id": "58c5e395-dd8e-4ade-b54e-48be6359634a",
   "metadata": {},
   "source": [
    "#### - Implement a recommendation system using cosine similarity on an anime dataset"
   ]
  },
  {
   "cell_type": "markdown",
   "id": "da6b48f3-9e93-4c8a-9538-d08dd3a61816",
   "metadata": {},
   "source": [
    "### TASKS :"
   ]
  },
  {
   "cell_type": "markdown",
   "id": "7030264a-c6f8-492b-a976-1484054a2d0d",
   "metadata": {},
   "source": [
    "##### DATA PREPROCESSING :"
   ]
  },
  {
   "cell_type": "code",
   "execution_count": 5,
   "id": "0833b1a8-6a95-4180-8ad8-1b931c51b6c4",
   "metadata": {},
   "outputs": [],
   "source": [
    "import warnings\n",
    "warnings.filterwarnings('ignore')"
   ]
  },
  {
   "cell_type": "code",
   "execution_count": 6,
   "id": "beef6455-6dd5-4ba3-b65e-adfa0c4191d2",
   "metadata": {},
   "outputs": [],
   "source": [
    "import pandas as pd\n",
    "import numpy as np\n",
    "import matplotlib.pyplot as plt\n",
    "import seaborn as sns"
   ]
  },
  {
   "cell_type": "code",
   "execution_count": 7,
   "id": "4c6fdcea-5cc3-43ab-958c-68cb5fe23e7e",
   "metadata": {},
   "outputs": [],
   "source": [
    "from sklearn.metrics.pairwise import cosine_similarity  # compute the similarity between anime to recommend similar anime"
   ]
  },
  {
   "cell_type": "code",
   "execution_count": 8,
   "id": "851b554c-c9dc-46ea-a80d-349d996b3aa8",
   "metadata": {},
   "outputs": [],
   "source": [
    "from sklearn.preprocessing import MultiLabelBinarizer,MinMaxScaler #genre into binary, # range btw 0 to 1 "
   ]
  },
  {
   "cell_type": "code",
   "execution_count": 9,
   "id": "54b5d3cd-c7ab-438b-a6a6-c666958d68e6",
   "metadata": {},
   "outputs": [],
   "source": [
    "from sklearn.model_selection import train_test_split\n",
    "from sklearn.metrics import precision_score , recall_score , f1_score"
   ]
  },
  {
   "cell_type": "code",
   "execution_count": 10,
   "id": "20ca7b4d-940c-4550-ab81-6b0f990fc22c",
   "metadata": {},
   "outputs": [],
   "source": [
    "df=pd.read_csv('anime.csv')"
   ]
  },
  {
   "cell_type": "code",
   "execution_count": 11,
   "id": "5a830a54-cef3-459f-a399-2be910a13ea5",
   "metadata": {},
   "outputs": [
    {
     "data": {
      "text/html": [
       "<div>\n",
       "<style scoped>\n",
       "    .dataframe tbody tr th:only-of-type {\n",
       "        vertical-align: middle;\n",
       "    }\n",
       "\n",
       "    .dataframe tbody tr th {\n",
       "        vertical-align: top;\n",
       "    }\n",
       "\n",
       "    .dataframe thead th {\n",
       "        text-align: right;\n",
       "    }\n",
       "</style>\n",
       "<table border=\"1\" class=\"dataframe\">\n",
       "  <thead>\n",
       "    <tr style=\"text-align: right;\">\n",
       "      <th></th>\n",
       "      <th>anime_id</th>\n",
       "      <th>name</th>\n",
       "      <th>genre</th>\n",
       "      <th>type</th>\n",
       "      <th>episodes</th>\n",
       "      <th>rating</th>\n",
       "      <th>members</th>\n",
       "    </tr>\n",
       "  </thead>\n",
       "  <tbody>\n",
       "    <tr>\n",
       "      <th>0</th>\n",
       "      <td>32281</td>\n",
       "      <td>Kimi no Na wa.</td>\n",
       "      <td>Drama, Romance, School, Supernatural</td>\n",
       "      <td>Movie</td>\n",
       "      <td>1</td>\n",
       "      <td>9.37</td>\n",
       "      <td>200630</td>\n",
       "    </tr>\n",
       "    <tr>\n",
       "      <th>1</th>\n",
       "      <td>5114</td>\n",
       "      <td>Fullmetal Alchemist: Brotherhood</td>\n",
       "      <td>Action, Adventure, Drama, Fantasy, Magic, Mili...</td>\n",
       "      <td>TV</td>\n",
       "      <td>64</td>\n",
       "      <td>9.26</td>\n",
       "      <td>793665</td>\n",
       "    </tr>\n",
       "    <tr>\n",
       "      <th>2</th>\n",
       "      <td>28977</td>\n",
       "      <td>Gintama°</td>\n",
       "      <td>Action, Comedy, Historical, Parody, Samurai, S...</td>\n",
       "      <td>TV</td>\n",
       "      <td>51</td>\n",
       "      <td>9.25</td>\n",
       "      <td>114262</td>\n",
       "    </tr>\n",
       "    <tr>\n",
       "      <th>3</th>\n",
       "      <td>9253</td>\n",
       "      <td>Steins;Gate</td>\n",
       "      <td>Sci-Fi, Thriller</td>\n",
       "      <td>TV</td>\n",
       "      <td>24</td>\n",
       "      <td>9.17</td>\n",
       "      <td>673572</td>\n",
       "    </tr>\n",
       "    <tr>\n",
       "      <th>4</th>\n",
       "      <td>9969</td>\n",
       "      <td>Gintama&amp;#039;</td>\n",
       "      <td>Action, Comedy, Historical, Parody, Samurai, S...</td>\n",
       "      <td>TV</td>\n",
       "      <td>51</td>\n",
       "      <td>9.16</td>\n",
       "      <td>151266</td>\n",
       "    </tr>\n",
       "  </tbody>\n",
       "</table>\n",
       "</div>"
      ],
      "text/plain": [
       "   anime_id                              name  \\\n",
       "0     32281                    Kimi no Na wa.   \n",
       "1      5114  Fullmetal Alchemist: Brotherhood   \n",
       "2     28977                          Gintama°   \n",
       "3      9253                       Steins;Gate   \n",
       "4      9969                     Gintama&#039;   \n",
       "\n",
       "                                               genre   type episodes  rating  \\\n",
       "0               Drama, Romance, School, Supernatural  Movie        1    9.37   \n",
       "1  Action, Adventure, Drama, Fantasy, Magic, Mili...     TV       64    9.26   \n",
       "2  Action, Comedy, Historical, Parody, Samurai, S...     TV       51    9.25   \n",
       "3                                   Sci-Fi, Thriller     TV       24    9.17   \n",
       "4  Action, Comedy, Historical, Parody, Samurai, S...     TV       51    9.16   \n",
       "\n",
       "   members  \n",
       "0   200630  \n",
       "1   793665  \n",
       "2   114262  \n",
       "3   673572  \n",
       "4   151266  "
      ]
     },
     "execution_count": 11,
     "metadata": {},
     "output_type": "execute_result"
    }
   ],
   "source": [
    "df.head()"
   ]
  },
  {
   "cell_type": "code",
   "execution_count": 12,
   "id": "e0f4b9bd-0fbe-4951-91a7-fda4ddb22eee",
   "metadata": {},
   "outputs": [
    {
     "name": "stdout",
     "output_type": "stream",
     "text": [
      "<class 'pandas.core.frame.DataFrame'>\n",
      "RangeIndex: 12294 entries, 0 to 12293\n",
      "Data columns (total 7 columns):\n",
      " #   Column    Non-Null Count  Dtype  \n",
      "---  ------    --------------  -----  \n",
      " 0   anime_id  12294 non-null  int64  \n",
      " 1   name      12294 non-null  object \n",
      " 2   genre     12232 non-null  object \n",
      " 3   type      12269 non-null  object \n",
      " 4   episodes  12294 non-null  object \n",
      " 5   rating    12064 non-null  float64\n",
      " 6   members   12294 non-null  int64  \n",
      "dtypes: float64(1), int64(2), object(4)\n",
      "memory usage: 672.5+ KB\n"
     ]
    }
   ],
   "source": [
    "df.info()"
   ]
  },
  {
   "cell_type": "code",
   "execution_count": 13,
   "id": "9356bf44-8965-40dc-bc79-91eda07b8b6c",
   "metadata": {},
   "outputs": [
    {
     "data": {
      "text/plain": [
       "anime_id      0\n",
       "name          0\n",
       "genre        62\n",
       "type         25\n",
       "episodes      0\n",
       "rating      230\n",
       "members       0\n",
       "dtype: int64"
      ]
     },
     "execution_count": 13,
     "metadata": {},
     "output_type": "execute_result"
    }
   ],
   "source": [
    "df.isnull().sum()"
   ]
  },
  {
   "cell_type": "code",
   "execution_count": 14,
   "id": "e83f40a5-da78-4c85-92b3-44b910fc4f85",
   "metadata": {},
   "outputs": [],
   "source": [
    "df['genre'].fillna('unknown',inplace=True)\n",
    "df['type'].fillna('unknown',inplace=True)\n",
    "m_rating=df['rating'].median()\n",
    "df['rating'].fillna(m_rating,inplace=True)"
   ]
  },
  {
   "cell_type": "code",
   "execution_count": 15,
   "id": "0979e105-8394-4382-9431-7fab4e3f769e",
   "metadata": {},
   "outputs": [
    {
     "data": {
      "text/html": [
       "<div>\n",
       "<style scoped>\n",
       "    .dataframe tbody tr th:only-of-type {\n",
       "        vertical-align: middle;\n",
       "    }\n",
       "\n",
       "    .dataframe tbody tr th {\n",
       "        vertical-align: top;\n",
       "    }\n",
       "\n",
       "    .dataframe thead th {\n",
       "        text-align: right;\n",
       "    }\n",
       "</style>\n",
       "<table border=\"1\" class=\"dataframe\">\n",
       "  <thead>\n",
       "    <tr style=\"text-align: right;\">\n",
       "      <th></th>\n",
       "      <th>anime_id</th>\n",
       "      <th>rating</th>\n",
       "      <th>members</th>\n",
       "    </tr>\n",
       "  </thead>\n",
       "  <tbody>\n",
       "    <tr>\n",
       "      <th>count</th>\n",
       "      <td>12294.000000</td>\n",
       "      <td>12294.000000</td>\n",
       "      <td>1.229400e+04</td>\n",
       "    </tr>\n",
       "    <tr>\n",
       "      <th>mean</th>\n",
       "      <td>14058.221653</td>\n",
       "      <td>6.475700</td>\n",
       "      <td>1.807134e+04</td>\n",
       "    </tr>\n",
       "    <tr>\n",
       "      <th>std</th>\n",
       "      <td>11455.294701</td>\n",
       "      <td>1.017179</td>\n",
       "      <td>5.482068e+04</td>\n",
       "    </tr>\n",
       "    <tr>\n",
       "      <th>min</th>\n",
       "      <td>1.000000</td>\n",
       "      <td>1.670000</td>\n",
       "      <td>5.000000e+00</td>\n",
       "    </tr>\n",
       "    <tr>\n",
       "      <th>25%</th>\n",
       "      <td>3484.250000</td>\n",
       "      <td>5.900000</td>\n",
       "      <td>2.250000e+02</td>\n",
       "    </tr>\n",
       "    <tr>\n",
       "      <th>50%</th>\n",
       "      <td>10260.500000</td>\n",
       "      <td>6.570000</td>\n",
       "      <td>1.550000e+03</td>\n",
       "    </tr>\n",
       "    <tr>\n",
       "      <th>75%</th>\n",
       "      <td>24794.500000</td>\n",
       "      <td>7.170000</td>\n",
       "      <td>9.437000e+03</td>\n",
       "    </tr>\n",
       "    <tr>\n",
       "      <th>max</th>\n",
       "      <td>34527.000000</td>\n",
       "      <td>10.000000</td>\n",
       "      <td>1.013917e+06</td>\n",
       "    </tr>\n",
       "  </tbody>\n",
       "</table>\n",
       "</div>"
      ],
      "text/plain": [
       "           anime_id        rating       members\n",
       "count  12294.000000  12294.000000  1.229400e+04\n",
       "mean   14058.221653      6.475700  1.807134e+04\n",
       "std    11455.294701      1.017179  5.482068e+04\n",
       "min        1.000000      1.670000  5.000000e+00\n",
       "25%     3484.250000      5.900000  2.250000e+02\n",
       "50%    10260.500000      6.570000  1.550000e+03\n",
       "75%    24794.500000      7.170000  9.437000e+03\n",
       "max    34527.000000     10.000000  1.013917e+06"
      ]
     },
     "execution_count": 15,
     "metadata": {},
     "output_type": "execute_result"
    }
   ],
   "source": [
    "df.describe()"
   ]
  },
  {
   "cell_type": "markdown",
   "id": "77491447-74b6-46d9-9ecd-d30a1b469a78",
   "metadata": {},
   "source": [
    "#### FOR MORE UNDERSTANDING :"
   ]
  },
  {
   "cell_type": "code",
   "execution_count": 29,
   "id": "9fdcac37-2fbd-4d95-a4fa-4d2756d904c4",
   "metadata": {},
   "outputs": [
    {
     "data": {
      "image/png": "[encoded data removed]",
      "text/plain": [
       "<Figure size 1000x600 with 1 Axes>"
      ]
     },
     "metadata": {},
     "output_type": "display_data"
    }
   ],
   "source": [
    "plt.figure(figsize=(10,6))\n",
    "sns.scatterplot(y='episodes', x='rating', data=df)\n",
    "plt.title('Rating vs. Number of Episodes')\n",
    "plt.xlabel('Number of Episodes')\n",
    "plt.ylabel('Rating')\n",
    "plt.show()"
   ]
  },
  {
   "cell_type": "code",
   "execution_count": 18,
   "id": "12b2ca17-0b3f-45b4-8876-8abb3b0a07ab",
   "metadata": {},
   "outputs": [
    {
     "data": {
      "image/png": "[encoded data removed]",
      "text/plain": [
       "<Figure size 640x480 with 2 Axes>"
      ]
     },
     "metadata": {},
     "output_type": "display_data"
    }
   ],
   "source": [
    "df['episodes'] = pd.to_numeric(df['episodes'], errors='coerce').fillna(0)\n",
    "\n",
    "corr_matrix = df[['rating', 'episodes', 'members']].corr()\n",
    "sns.heatmap(corr_matrix, annot=True, cmap='coolwarm')\n",
    "plt.title('Correlation Heatmap of Numerical Features')\n",
    "plt.show()"
   ]
  },
  {
   "cell_type": "code",
   "execution_count": 19,
   "id": "a37adca1-0f14-4a09-acb9-c46947984614",
   "metadata": {},
   "outputs": [
    {
     "data": {
      "image/png": "[encoded data removed]",
      "text/plain": [
       "<Figure size 1000x1000 with 1 Axes>"
      ]
     },
     "metadata": {},
     "output_type": "display_data"
    }
   ],
   "source": [
    "top_animes = df.nlargest(20, 'members')\n",
    "top_animes.plot(x='name', y='members', kind='barh', figsize=(10,10), legend=False)\n",
    "plt.title('Top Animes by Community Members')\n",
    "plt.xlabel('Number of Members')\n",
    "plt.show()"
   ]
  },
  {
   "cell_type": "markdown",
   "id": "7de531cb-5938-4ad6-83e6-5c6f78b48b5f",
   "metadata": {},
   "source": [
    "#### ONE-HOT ENCODING :"
   ]
  },
  {
   "cell_type": "code",
   "execution_count": 20,
   "id": "3394d852-675e-4437-814d-25ef27c59679",
   "metadata": {},
   "outputs": [],
   "source": [
    "df['genre']= df['genre'].apply(lambda x: x.split(','))             # Split genre strings into lists"
   ]
  },
  {
   "cell_type": "code",
   "execution_count": 149,
   "id": "8141bbf2-3ce0-4714-bf80-b1088cdd1a69",
   "metadata": {},
   "outputs": [],
   "source": [
    "mlb=MultiLabelBinarizer()                                          # Initialize MultiLabelBinarizer to handle multiple genres\n",
    "g_en=mlb.fit_transform(df['genre'])                                # One-hot encode genres\n",
    "g_df=pd.DataFrame(g_en,columns=mlb.classes_)                       # Create a DataFrame from the one-hot encoded genre matrix"
   ]
  },
  {
   "cell_type": "code",
   "execution_count": 21,
   "id": "21b3914e-cda3-4161-9b46-23d758ee99ce",
   "metadata": {},
   "outputs": [],
   "source": [
    "scaler=MinMaxScaler()                                              # Scale numerical features\n",
    "df[['rating','episodes','members']]=scaler.fit_transform(df[['rating','episodes','members']])"
   ]
  },
  {
   "cell_type": "code",
   "execution_count": 22,
   "id": "419075c1-ada2-4f23-9882-7bfc2d399640",
   "metadata": {},
   "outputs": [],
   "source": [
    "a_df=pd.concat([df[['rating','episodes','members']],g_df],axis=1)  # Combine scaled features with one-hot encoded genres"
   ]
  },
  {
   "cell_type": "code",
   "execution_count": 23,
   "id": "c1d05fe4-074b-49d7-b373-9fef756de3a5",
   "metadata": {},
   "outputs": [
    {
     "data": {
      "text/html": [
       "<div>\n",
       "<style scoped>\n",
       "    .dataframe tbody tr th:only-of-type {\n",
       "        vertical-align: middle;\n",
       "    }\n",
       "\n",
       "    .dataframe tbody tr th {\n",
       "        vertical-align: top;\n",
       "    }\n",
       "\n",
       "    .dataframe thead th {\n",
       "        text-align: right;\n",
       "    }\n",
       "</style>\n",
       "<table border=\"1\" class=\"dataframe\">\n",
       "  <thead>\n",
       "    <tr style=\"text-align: right;\">\n",
       "      <th></th>\n",
       "      <th>rating</th>\n",
       "      <th>episodes</th>\n",
       "      <th>members</th>\n",
       "      <th>Adventure</th>\n",
       "      <th>Cars</th>\n",
       "      <th>Comedy</th>\n",
       "      <th>Dementia</th>\n",
       "      <th>Demons</th>\n",
       "      <th>Drama</th>\n",
       "      <th>Ecchi</th>\n",
       "      <th>...</th>\n",
       "      <th>Shounen</th>\n",
       "      <th>Slice of Life</th>\n",
       "      <th>Space</th>\n",
       "      <th>Sports</th>\n",
       "      <th>Super Power</th>\n",
       "      <th>Supernatural</th>\n",
       "      <th>Thriller</th>\n",
       "      <th>Vampire</th>\n",
       "      <th>Yaoi</th>\n",
       "      <th>unknown</th>\n",
       "    </tr>\n",
       "  </thead>\n",
       "  <tbody>\n",
       "    <tr>\n",
       "      <th>0</th>\n",
       "      <td>0.924370</td>\n",
       "      <td>0.000550</td>\n",
       "      <td>0.197872</td>\n",
       "      <td>0</td>\n",
       "      <td>0</td>\n",
       "      <td>0</td>\n",
       "      <td>0</td>\n",
       "      <td>0</td>\n",
       "      <td>0</td>\n",
       "      <td>0</td>\n",
       "      <td>...</td>\n",
       "      <td>0</td>\n",
       "      <td>0</td>\n",
       "      <td>0</td>\n",
       "      <td>0</td>\n",
       "      <td>0</td>\n",
       "      <td>0</td>\n",
       "      <td>0</td>\n",
       "      <td>0</td>\n",
       "      <td>0</td>\n",
       "      <td>0</td>\n",
       "    </tr>\n",
       "    <tr>\n",
       "      <th>1</th>\n",
       "      <td>0.911164</td>\n",
       "      <td>0.035204</td>\n",
       "      <td>0.782770</td>\n",
       "      <td>1</td>\n",
       "      <td>0</td>\n",
       "      <td>0</td>\n",
       "      <td>0</td>\n",
       "      <td>0</td>\n",
       "      <td>1</td>\n",
       "      <td>0</td>\n",
       "      <td>...</td>\n",
       "      <td>0</td>\n",
       "      <td>0</td>\n",
       "      <td>0</td>\n",
       "      <td>0</td>\n",
       "      <td>0</td>\n",
       "      <td>0</td>\n",
       "      <td>0</td>\n",
       "      <td>0</td>\n",
       "      <td>0</td>\n",
       "      <td>0</td>\n",
       "    </tr>\n",
       "    <tr>\n",
       "      <th>2</th>\n",
       "      <td>0.909964</td>\n",
       "      <td>0.028053</td>\n",
       "      <td>0.112689</td>\n",
       "      <td>0</td>\n",
       "      <td>0</td>\n",
       "      <td>1</td>\n",
       "      <td>0</td>\n",
       "      <td>0</td>\n",
       "      <td>0</td>\n",
       "      <td>0</td>\n",
       "      <td>...</td>\n",
       "      <td>0</td>\n",
       "      <td>0</td>\n",
       "      <td>0</td>\n",
       "      <td>0</td>\n",
       "      <td>0</td>\n",
       "      <td>0</td>\n",
       "      <td>0</td>\n",
       "      <td>0</td>\n",
       "      <td>0</td>\n",
       "      <td>0</td>\n",
       "    </tr>\n",
       "    <tr>\n",
       "      <th>3</th>\n",
       "      <td>0.900360</td>\n",
       "      <td>0.013201</td>\n",
       "      <td>0.664325</td>\n",
       "      <td>0</td>\n",
       "      <td>0</td>\n",
       "      <td>0</td>\n",
       "      <td>0</td>\n",
       "      <td>0</td>\n",
       "      <td>0</td>\n",
       "      <td>0</td>\n",
       "      <td>...</td>\n",
       "      <td>0</td>\n",
       "      <td>0</td>\n",
       "      <td>0</td>\n",
       "      <td>0</td>\n",
       "      <td>0</td>\n",
       "      <td>0</td>\n",
       "      <td>0</td>\n",
       "      <td>0</td>\n",
       "      <td>0</td>\n",
       "      <td>0</td>\n",
       "    </tr>\n",
       "    <tr>\n",
       "      <th>4</th>\n",
       "      <td>0.899160</td>\n",
       "      <td>0.028053</td>\n",
       "      <td>0.149186</td>\n",
       "      <td>0</td>\n",
       "      <td>0</td>\n",
       "      <td>1</td>\n",
       "      <td>0</td>\n",
       "      <td>0</td>\n",
       "      <td>0</td>\n",
       "      <td>0</td>\n",
       "      <td>...</td>\n",
       "      <td>0</td>\n",
       "      <td>0</td>\n",
       "      <td>0</td>\n",
       "      <td>0</td>\n",
       "      <td>0</td>\n",
       "      <td>0</td>\n",
       "      <td>0</td>\n",
       "      <td>0</td>\n",
       "      <td>0</td>\n",
       "      <td>0</td>\n",
       "    </tr>\n",
       "    <tr>\n",
       "      <th>...</th>\n",
       "      <td>...</td>\n",
       "      <td>...</td>\n",
       "      <td>...</td>\n",
       "      <td>...</td>\n",
       "      <td>...</td>\n",
       "      <td>...</td>\n",
       "      <td>...</td>\n",
       "      <td>...</td>\n",
       "      <td>...</td>\n",
       "      <td>...</td>\n",
       "      <td>...</td>\n",
       "      <td>...</td>\n",
       "      <td>...</td>\n",
       "      <td>...</td>\n",
       "      <td>...</td>\n",
       "      <td>...</td>\n",
       "      <td>...</td>\n",
       "      <td>...</td>\n",
       "      <td>...</td>\n",
       "      <td>...</td>\n",
       "      <td>...</td>\n",
       "    </tr>\n",
       "    <tr>\n",
       "      <th>12289</th>\n",
       "      <td>0.297719</td>\n",
       "      <td>0.000550</td>\n",
       "      <td>0.000203</td>\n",
       "      <td>0</td>\n",
       "      <td>0</td>\n",
       "      <td>0</td>\n",
       "      <td>0</td>\n",
       "      <td>0</td>\n",
       "      <td>0</td>\n",
       "      <td>0</td>\n",
       "      <td>...</td>\n",
       "      <td>0</td>\n",
       "      <td>0</td>\n",
       "      <td>0</td>\n",
       "      <td>0</td>\n",
       "      <td>0</td>\n",
       "      <td>0</td>\n",
       "      <td>0</td>\n",
       "      <td>0</td>\n",
       "      <td>0</td>\n",
       "      <td>0</td>\n",
       "    </tr>\n",
       "    <tr>\n",
       "      <th>12290</th>\n",
       "      <td>0.313325</td>\n",
       "      <td>0.000550</td>\n",
       "      <td>0.000176</td>\n",
       "      <td>0</td>\n",
       "      <td>0</td>\n",
       "      <td>0</td>\n",
       "      <td>0</td>\n",
       "      <td>0</td>\n",
       "      <td>0</td>\n",
       "      <td>0</td>\n",
       "      <td>...</td>\n",
       "      <td>0</td>\n",
       "      <td>0</td>\n",
       "      <td>0</td>\n",
       "      <td>0</td>\n",
       "      <td>0</td>\n",
       "      <td>0</td>\n",
       "      <td>0</td>\n",
       "      <td>0</td>\n",
       "      <td>0</td>\n",
       "      <td>0</td>\n",
       "    </tr>\n",
       "    <tr>\n",
       "      <th>12291</th>\n",
       "      <td>0.385354</td>\n",
       "      <td>0.002200</td>\n",
       "      <td>0.000211</td>\n",
       "      <td>0</td>\n",
       "      <td>0</td>\n",
       "      <td>0</td>\n",
       "      <td>0</td>\n",
       "      <td>0</td>\n",
       "      <td>0</td>\n",
       "      <td>0</td>\n",
       "      <td>...</td>\n",
       "      <td>0</td>\n",
       "      <td>0</td>\n",
       "      <td>0</td>\n",
       "      <td>0</td>\n",
       "      <td>0</td>\n",
       "      <td>0</td>\n",
       "      <td>0</td>\n",
       "      <td>0</td>\n",
       "      <td>0</td>\n",
       "      <td>0</td>\n",
       "    </tr>\n",
       "    <tr>\n",
       "      <th>12292</th>\n",
       "      <td>0.397359</td>\n",
       "      <td>0.000550</td>\n",
       "      <td>0.000168</td>\n",
       "      <td>0</td>\n",
       "      <td>0</td>\n",
       "      <td>0</td>\n",
       "      <td>0</td>\n",
       "      <td>0</td>\n",
       "      <td>0</td>\n",
       "      <td>0</td>\n",
       "      <td>...</td>\n",
       "      <td>0</td>\n",
       "      <td>0</td>\n",
       "      <td>0</td>\n",
       "      <td>0</td>\n",
       "      <td>0</td>\n",
       "      <td>0</td>\n",
       "      <td>0</td>\n",
       "      <td>0</td>\n",
       "      <td>0</td>\n",
       "      <td>0</td>\n",
       "    </tr>\n",
       "    <tr>\n",
       "      <th>12293</th>\n",
       "      <td>0.454982</td>\n",
       "      <td>0.000550</td>\n",
       "      <td>0.000135</td>\n",
       "      <td>0</td>\n",
       "      <td>0</td>\n",
       "      <td>0</td>\n",
       "      <td>0</td>\n",
       "      <td>0</td>\n",
       "      <td>0</td>\n",
       "      <td>0</td>\n",
       "      <td>...</td>\n",
       "      <td>0</td>\n",
       "      <td>0</td>\n",
       "      <td>0</td>\n",
       "      <td>0</td>\n",
       "      <td>0</td>\n",
       "      <td>0</td>\n",
       "      <td>0</td>\n",
       "      <td>0</td>\n",
       "      <td>0</td>\n",
       "      <td>0</td>\n",
       "    </tr>\n",
       "  </tbody>\n",
       "</table>\n",
       "<p>12294 rows × 86 columns</p>\n",
       "</div>"
      ],
      "text/plain": [
       "         rating  episodes   members   Adventure   Cars   Comedy   Dementia  \\\n",
       "0      0.924370  0.000550  0.197872           0      0        0          0   \n",
       "1      0.911164  0.035204  0.782770           1      0        0          0   \n",
       "2      0.909964  0.028053  0.112689           0      0        1          0   \n",
       "3      0.900360  0.013201  0.664325           0      0        0          0   \n",
       "4      0.899160  0.028053  0.149186           0      0        1          0   \n",
       "...         ...       ...       ...         ...    ...      ...        ...   \n",
       "12289  0.297719  0.000550  0.000203           0      0        0          0   \n",
       "12290  0.313325  0.000550  0.000176           0      0        0          0   \n",
       "12291  0.385354  0.002200  0.000211           0      0        0          0   \n",
       "12292  0.397359  0.000550  0.000168           0      0        0          0   \n",
       "12293  0.454982  0.000550  0.000135           0      0        0          0   \n",
       "\n",
       "        Demons   Drama   Ecchi  ...  Shounen  Slice of Life  Space  Sports  \\\n",
       "0            0       0       0  ...        0              0      0       0   \n",
       "1            0       1       0  ...        0              0      0       0   \n",
       "2            0       0       0  ...        0              0      0       0   \n",
       "3            0       0       0  ...        0              0      0       0   \n",
       "4            0       0       0  ...        0              0      0       0   \n",
       "...        ...     ...     ...  ...      ...            ...    ...     ...   \n",
       "12289        0       0       0  ...        0              0      0       0   \n",
       "12290        0       0       0  ...        0              0      0       0   \n",
       "12291        0       0       0  ...        0              0      0       0   \n",
       "12292        0       0       0  ...        0              0      0       0   \n",
       "12293        0       0       0  ...        0              0      0       0   \n",
       "\n",
       "       Super Power  Supernatural  Thriller  Vampire  Yaoi  unknown  \n",
       "0                0             0         0        0     0        0  \n",
       "1                0             0         0        0     0        0  \n",
       "2                0             0         0        0     0        0  \n",
       "3                0             0         0        0     0        0  \n",
       "4                0             0         0        0     0        0  \n",
       "...            ...           ...       ...      ...   ...      ...  \n",
       "12289            0             0         0        0     0        0  \n",
       "12290            0             0         0        0     0        0  \n",
       "12291            0             0         0        0     0        0  \n",
       "12292            0             0         0        0     0        0  \n",
       "12293            0             0         0        0     0        0  \n",
       "\n",
       "[12294 rows x 86 columns]"
      ]
     },
     "execution_count": 23,
     "metadata": {},
     "output_type": "execute_result"
    }
   ],
   "source": [
    "a_df"
   ]
  },
  {
   "cell_type": "code",
   "execution_count": 133,
   "id": "c1de6d1b-547c-40ce-aaac-e1a0489b802c",
   "metadata": {},
   "outputs": [],
   "source": [
    "c_s=cosine_similarity(a_df)                                                # Compute cosine similarity  "
   ]
  },
  {
   "cell_type": "markdown",
   "id": "f21f22ee-88ad-4335-aa9b-3fd1eaff381c",
   "metadata": {},
   "source": [
    "#### RECOMMENTATION FUNTION :"
   ]
  },
  {
   "cell_type": "code",
   "execution_count": 134,
   "id": "ee63c0f3-9457-4429-879a-c87abc4d8fe6",
   "metadata": {},
   "outputs": [],
   "source": [
    "def recommend_anime(anime_title, c_s=c_s, df=df, threshold=0.5, top_n=10): # Recommendation Function\n",
    "    if anime_title not in df['name'].values:                               # Check if the anime is in the dataset\n",
    "        return \"Anime not found.\"\n",
    "     \n",
    "    idx = df.index[df['name'] == anime_title][0]                           # Get the index of the anime\n",
    "    sim_scores = [(i, score) for i, score in enumerate(c_s[idx]) if score >= threshold]# Find all anime with similarity\n",
    "                                                                                       # scores above the threshold    \n",
    "    return df['name'].iloc[[i for i, _ in sorted(sim_scores[1:top_n+1], key=lambda x: x[1], reverse=True)]]\n",
    "                      # Sort the similar anime by score and return the top_n recommendations"
   ]
  },
  {
   "cell_type": "markdown",
   "id": "a74cab94-cc04-4109-abdf-41e0ff2a04c6",
   "metadata": {},
   "source": [
    "#### USER INPUT RECOMMENTATION :"
   ]
  },
  {
   "cell_type": "code",
   "execution_count": 118,
   "id": "8bf0a02e-de5f-44cf-8f49-defca6e4946e",
   "metadata": {},
   "outputs": [
    {
     "name": "stdin",
     "output_type": "stream",
     "text": [
      "Enter the anime title:  Naruto\n"
     ]
    },
    {
     "name": "stdout",
     "output_type": "stream",
     "text": [
      "\n",
      "Top 10 anime recommendations for 'Naruto':\n",
      "1. Katekyo Hitman Reborn!\n",
      "2. Boku no Hero Academia\n",
      "3. One Piece\n",
      "4. Ansatsu Kyoushitsu (TV) 2nd Season\n",
      "5. Hunter x Hunter\n",
      "6. Yuu☆Yuu☆Hakusho\n",
      "7. Hunter x Hunter: Greed Island Final\n",
      "8. Hunter x Hunter OVA\n",
      "9. Shingeki no Kyojin\n",
      "10. Samurai Champloo\n"
     ]
    }
   ],
   "source": [
    "def get_anime_recommendations():                                             # Function for user input & print anime's\n",
    "    anime_title = input(\"Enter the anime title: \")                           # ask for input\n",
    "    recommended_list = recommend_anime(anime_title, threshold=0.6, top_n=10) # Get recommentation on input\n",
    "    print(f\"\\nTop 10 anime recommendations for '{anime_title}':\")            # print \n",
    "    for i, anime in enumerate(recommended_list, 1):\n",
    "        print(f\"{i}. {anime}\")\n",
    "        \n",
    "get_anime_recommendations()                                                  #fun call"
   ]
  },
  {
   "cell_type": "markdown",
   "id": "c2ec0402-153b-4d5b-80ed-ed7bf121596f",
   "metadata": {},
   "source": [
    "#### EVALUVATING EACH FUNCTION SYSTEM PERFORMANCE :"
   ]
  },
  {
   "cell_type": "code",
   "execution_count": 91,
   "id": "03de90c3-bcdc-4e6d-ab43-01914f074292",
   "metadata": {},
   "outputs": [],
   "source": [
    "train_data,test_data=train_test_split(df,test_size=0.2,random_state=42)   #Slipt data into traning and test sets"
   ]
  },
  {
   "cell_type": "code",
   "execution_count": 145,
   "id": "078a0175-e0f2-43dd-bb46-70fff33d4f0e",
   "metadata": {},
   "outputs": [],
   "source": [
    "def evaluate_recommendations(test_data, top_n=10):                        # Fun to system performance \n",
    "    y_true = []                                                           # Store true value\n",
    "    y_pred = []                                                           # Store predicted values\n",
    "    \n",
    "    for idx, test_anime in test_data.iterrows():                          # loop through each anime in test data\n",
    "        recs = recommend_anime(test_anime['name'], top_n=top_n)           # get recommented data \n",
    "\n",
    "        true_genres = set(test_anime['genre'])                            # Get true and predicted genres directly\n",
    "        pred_genres = set(train_data[train_data['name'].isin(recs)]['genre'].explode())\n",
    "\n",
    "        y_true.append(1 if true_genres & pred_genres else 0)               # Append 1 if there is an intersection btw\n",
    "        y_pred.append(1)                                                   #  true and predicted genres\n",
    "\n",
    "    precision = sum(y_true) / len(y_pred)                                  \n",
    "    recall = sum(y_true) / len(test_data)                                  \n",
    "    f1 = 2 * (precision * recall) / (precision + recall) if (precision + recall) != 0 else 0\n",
    "    \n",
    "    return precision, recall, f1"
   ]
  },
  {
   "cell_type": "code",
   "execution_count": 143,
   "id": "0c3e2442-39f2-4c75-b352-ee138e9bc877",
   "metadata": {},
   "outputs": [
    {
     "name": "stdout",
     "output_type": "stream",
     "text": [
      "Precision: 1.00, Recall: 1.00, F1-Score: 1.00\n"
     ]
    }
   ],
   "source": [
    "precision, recall, f1 = evaluate_recommendations(test_data, top_n=10)\n",
    "print(f\"Precision: {precision:.2f}, Recall: {recall:.2f}, F1-Score: {f1:.2f}\")"
   ]
  },
  {
   "cell_type": "markdown",
   "id": "7798b648-7c32-415b-b537-e2c19f5a0fdb",
   "metadata": {},
   "source": [
    "-------\n",
    "## Interview Questions :"
   ]
  },
  {
   "cell_type": "markdown",
   "id": "5291740e-ef52-4710-934d-32e97d53fec7",
   "metadata": {},
   "source": [
    "### 1. Can you explain the difference between user-based and item-based collaborative filtering?"
   ]
  },
  {
   "cell_type": "raw",
   "id": "a46b7e2e-453a-4d8d-999a-bbf12a7214a9",
   "metadata": {},
   "source": [
    "User-Based Collaborative Filtering :\n",
    " - In user-based collaborative filtering, the system looks for users who have similar tastes or preferences\n",
    " - eg : if two people have rated many of the same movies similarly, they are considered similar. The system will then \n",
    "        recommend movies that one user liked to the other user because they are likely to enjoy the same things\n",
    "Item-Based Collaborative Filtering :\n",
    " - Item-based collaborative filtering, on the other hand, looks for similarities between items\n",
    " - eg : if a user likes a specific movie, the system will find other movies that are similar to it and recommend those"
   ]
  },
  {
   "cell_type": "markdown",
   "id": "4abc8f6f-ac0d-49ec-824d-5e62258cd720",
   "metadata": {},
   "source": [
    "### 2. What is collaborative filtering, and how does it work?"
   ]
  },
  {
   "cell_type": "raw",
   "id": "cdce0a25-ff36-4737-9285-cda68b430987",
   "metadata": {},
   "source": [
    "* Collaborative filtering is a recommendation technique used by online platforms to suggest items (like movies, products, or \n",
    "  music) to users based on the preferences and behaviors of other users\n",
    "* This method is widely used in recommendation systems like Netflix, Amazon, and YouTube\n",
    "WORKING :-\n",
    "- Collaborative filtering works by finding patterns in user interactions with items (e.g., ratings, likes, purchases). There \n",
    "  are two main types :-\n",
    "  (1) User-Based Collaborative Filtering  (2) Item-Based Collaborative Filtering"
   ]
  }
 ],
 "metadata": {
  "kernelspec": {
   "display_name": "Python 3 (ipykernel)",
   "language": "python",
   "name": "python3"
  },
  "language_info": {
   "codemirror_mode": {
    "name": "ipython",
    "version": 3
   },
   "file_extension": ".py",
   "mimetype": "text/x-python",
   "name": "python",
   "nbconvert_exporter": "python",
   "pygments_lexer": "ipython3",
   "version": "3.12.4"
  }
 },
 "nbformat": 4,
 "nbformat_minor": 5
}
