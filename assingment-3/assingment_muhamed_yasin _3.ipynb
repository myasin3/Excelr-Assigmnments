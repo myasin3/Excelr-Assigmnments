{
 "cells": [
  {
   "cell_type": "markdown",
   "id": "2b9cfa86-3336-4f82-993e-0cd883601432",
   "metadata": {},
   "source": [
    "# **ESTIMATION AND CONFIDENCE INTERVALS**"
   ]
  },
  {
   "cell_type": "code",
   "execution_count": 2,
   "id": "f1ad920e-a642-480e-a75a-11cbfd4c3204",
   "metadata": {},
   "outputs": [],
   "source": [
    "import numpy as np"
   ]
  },
  {
   "cell_type": "code",
   "execution_count": 3,
   "id": "1d3d056b-cc17-4a16-b135-b5bb7cf23fd7",
   "metadata": {},
   "outputs": [],
   "source": [
    "import math"
   ]
  },
  {
   "cell_type": "markdown",
   "id": "835c20ab-116a-4fd9-ba9f-54e338eccfc7",
   "metadata": {},
   "source": [
    "#### *A total of 15 print-heads were randomly selected and tested until failure. The durability of each print-head (in millions of characters) was recorded as follows:*"
   ]
  },
  {
   "cell_type": "code",
   "execution_count": 6,
   "id": "d3101096-bd61-4a00-8601-1a44a76e85e7",
   "metadata": {},
   "outputs": [],
   "source": [
    "ppln = [1.13, 1.55, 1.43, 0.92, 1.25, 1.36, 1.32, 0.85, 1.07, 1.48, 1.20, 1.33, 1.18, 1.22, 1.29] # given"
   ]
  },
  {
   "cell_type": "code",
   "execution_count": 7,
   "id": "432341aa-b442-4325-8df8-8cb64fa3376e",
   "metadata": {},
   "outputs": [],
   "source": [
    " n     = 15           # given data\n",
    "std_s  = np.std(ppln) # mean sample\n",
    "mean_s = np.mean(ppln) # standard deviation sample"
   ]
  },
  {
   "cell_type": "markdown",
   "id": "f1d358da-d93f-43c8-a8c1-2edab1a53b52",
   "metadata": {},
   "source": [
    "### A) Build 99% Confidence Interval Using Sample Standard Deviation"
   ]
  },
  {
   "cell_type": "code",
   "execution_count": 9,
   "id": "9594957b-40e8-4377-9cb1-23a5d6206573",
   "metadata": {},
   "outputs": [],
   "source": [
    "conf_lvl =0.99\n",
    "df       = n - 1 \n",
    "alpha    = 1 - conf_lvl"
   ]
  },
  {
   "cell_type": "code",
   "execution_count": 10,
   "id": "e6214262-7d96-46c7-a519-7f35322755ae",
   "metadata": {},
   "outputs": [],
   "source": [
    "t_crtcl = stats.t.ppf(1 - alpha/2 , df)"
   ]
  },
  {
   "cell_type": "code",
   "execution_count": 11,
   "id": "b30cf5d1-c750-4759-ad74-7e0395c209a5",
   "metadata": {},
   "outputs": [],
   "source": [
    "MOE_s = t_crtcl * (std_s / np.sqrt(n))"
   ]
  },
  {
   "cell_type": "code",
   "execution_count": 12,
   "id": "a3e10b59-7ccd-4648-945e-ff0d67f077aa",
   "metadata": {},
   "outputs": [],
   "source": [
    "CI_s= (mean_s - MOE_s, mean_s + MOE_s)"
   ]
  },
  {
   "cell_type": "code",
   "execution_count": 13,
   "id": "298538d8-b51d-4064-b43a-d54a74f3c5fb",
   "metadata": {},
   "outputs": [
    {
     "data": {
      "text/plain": [
       "(1.095231668626123, 1.3821016647072102)"
      ]
     },
     "execution_count": 13,
     "metadata": {},
     "output_type": "execute_result"
    }
   ],
   "source": [
    "CI_s"
   ]
  },
  {
   "cell_type": "raw",
   "id": "33fa63fb-effc-4c50-a2fd-2b50f28ff60f",
   "metadata": {},
   "source": [
    "Steps:-\n",
    "\n",
    "1. Confidence Level(conf_lvl)       - 99%, meaning we're 99% confident the mean lies within the interval\n",
    "2. Sample Mean(mean_s)              - Calculate the mean of the sample\n",
    "3. Degrees of Freedom(df)           - df = (n-1)=14  (where n = 15)\n",
    "4. Sample Standard Deviation(std_s) - Calculate the sample standard deviation\n",
    "5. Alpha                            - 1-Confidence Level = 0.01 \n",
    "6. t-Critical                       - Find the t-critical value for 99% confidence with 14 df\n",
    "7. Margin of Error(MOE_s)           - t_crtcl x ( Sample Standard Deviation \\sqrt(n))\n",
    "8. Confidence Interval(CI)          - ((sample mean - Margin of Error) , (sample mean + Margin of Error))\n",
    "\n",
    "Rationale for Using t-Distribution:-\n",
    "\n",
    "- Unknown Population Standard Deviation\n",
    "- Small Sample Size (n = 15)\n"
   ]
  },
  {
   "cell_type": "markdown",
   "id": "7fc3c41a-0466-43b3-a14c-82a20cd2511e",
   "metadata": {},
   "source": [
    "## B) Build 99% Confidence Interval Using Known Population Standard Deviation"
   ]
  },
  {
   "cell_type": "code",
   "execution_count": 15,
   "id": "4b4347bd-fa61-4cd0-9f1e-75cf97e3e062",
   "metadata": {},
   "outputs": [],
   "source": [
    "std_ppln = 0.2 "
   ]
  },
  {
   "cell_type": "code",
   "execution_count": 16,
   "id": "facbbf02-e451-4883-a69d-cc528168848e",
   "metadata": {},
   "outputs": [],
   "source": [
    "z_crtcl = stats.norm.ppf(1 - alpha/2)"
   ]
  },
  {
   "cell_type": "code",
   "execution_count": 17,
   "id": "42903aa2-249d-4c3b-940f-4839af854354",
   "metadata": {},
   "outputs": [],
   "source": [
    "MOE_p = z_crtcl * (std_ppln / np.sqrt(n))"
   ]
  },
  {
   "cell_type": "code",
   "execution_count": 19,
   "id": "52642523-17b8-4177-b6fc-0f1898ab9dab",
   "metadata": {},
   "outputs": [],
   "source": [
    "CI_p = (mean_s - MOE_p, mean_s + MOE_p)"
   ]
  },
  {
   "cell_type": "code",
   "execution_count": 21,
   "id": "fd1d5aae-f3b8-48c2-adb3-7373542c0c02",
   "metadata": {},
   "outputs": [
    {
     "data": {
      "text/plain": [
       "(1.1056514133957607, 1.3716819199375725)"
      ]
     },
     "execution_count": 21,
     "metadata": {},
     "output_type": "execute_result"
    }
   ],
   "source": [
    "CI_p "
   ]
  }
 ],
 "metadata": {
  "kernelspec": {
   "display_name": "Python 3 (ipykernel)",
   "language": "python",
   "name": "python3"
  },
  "language_info": {
   "codemirror_mode": {
    "name": "ipython",
    "version": 3
   },
   "file_extension": ".py",
   "mimetype": "text/x-python",
   "name": "python",
   "nbconvert_exporter": "python",
   "pygments_lexer": "ipython3",
   "version": "3.12.4"
  }
 },
 "nbformat": 4,
 "nbformat_minor": 5
}
