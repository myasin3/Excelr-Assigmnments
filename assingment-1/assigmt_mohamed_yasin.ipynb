{
 "cells": [
  {
   "cell_type": "markdown",
   "id": "7e8f1bbb-1d9c-413a-b980-4d728211d724",
   "metadata": {},
   "source": [
    "## (Q.1) Write a Python program that checks whether a given number is prime or not. A prime number is a natural number greater than 1 that has no positive divisors other than 1 and itself ?"
   ]
  },
  {
   "cell_type": "code",
   "execution_count": 2,
   "id": "92264dc4-4f50-49fb-bf48-6d3aa4f37bd7",
   "metadata": {},
   "outputs": [
    {
     "name": "stdin",
     "output_type": "stream",
     "text": [
      "Enter a number:  2\n"
     ]
    },
    {
     "name": "stdout",
     "output_type": "stream",
     "text": [
      "prime\n"
     ]
    }
   ],
   "source": [
    "def prime(n): # Define a function named 'prime' which takes an integer 'n' as input\n",
    "    if n <= 1: #Check if n is less than or equal to 1 \n",
    "        return False# If 'n' is 1 or less, return False because 1 and any numb below it are not prime numb\n",
    "    for i in range(2, n): # Loop through numb starting from 2 up to 'n-1' to check if any divide 'n' evenly\n",
    "        if n % i == 0: # If 'n' is divisible by 'i', it's not a prime numb\n",
    "            return False # Return False immediately if a divisor is found\n",
    "    return True # If no divisors are found in the loop, return True\n",
    "    #which means 'n' is a prime numb\n",
    "num = int(input(\"Enter a number: \")) # Ask the user to enter a numb and convert the input to an integer\n",
    "if prime(num): # Call the 'prime' function with the user's numb 'num' and check if it returns True\n",
    "    print(\"prime\") # If the function returns True, print \"prime\" \n",
    "else: # If the function returns False, move to the next step\n",
    "    print(\"Not prime\") # Print \"Not prime\",Because the number is not a prime number\n"
   ]
  },
  {
   "cell_type": "markdown",
   "id": "be1be98d-0f5e-4090-903e-7537a4e6d1a4",
   "metadata": {},
   "source": [
    "## (Q.2)Develop a Python program that generates two random numbers and asks the user to enter the product of these numbers. The program should then check if the user's answer is correct and display an appropriate message ?"
   ]
  },
  {
   "cell_type": "code",
   "execution_count": 4,
   "id": "a7db6d34-1834-4435-b6a3-8fca17ea73b0",
   "metadata": {},
   "outputs": [
    {
     "name": "stdin",
     "output_type": "stream",
     "text": [
      "Enter the first number:  2\n",
      "Enter the second number:  2\n",
      "What is the product ?  5\n"
     ]
    },
    {
     "name": "stdout",
     "output_type": "stream",
     "text": [
      "Incorrect answer ,correct answer is 4\n"
     ]
    }
   ],
   "source": [
    "n1 = int(input(\"Enter the first number: \"))  # Ask the user to type in the first numb and save it in 'n1'\n",
    "n2 = int(input(\"Enter the second number: \")) # Now, ask the user to provide the second numb and save it in 'n2'\n",
    "a = int(input(\"What is the product ? \")) # Ask the user what they think the product of the two numb is, and save it in 'a'\n",
    "b = n1 * n2 # Calculate the actual product of the two numb and save it in 'b'\n",
    "if a == b: # Check if the user's answer 'a' matches the actual product 'b'\n",
    "    print(\"Correct answer\") # If the user's answer is right, print \"Correct answer\"\n",
    "else: # If the user's answer doesn't match the actual product, move to this next step\n",
    "    print(f\"Incorrect answer ,correct answer is {b}\")  # print 'incorrect answer ,correct answer is', and show the correct product, which is saved in 'b'\n",
    "    "
   ]
  },
  {
   "cell_type": "markdown",
   "id": "19799607-f927-44b4-a4a0-17e7e66b1651",
   "metadata": {},
   "source": [
    "## (Q.3)Create a Python script that prints the squares of all even or odd numbers within the range of 100 to 200. Choose either even or odd numbers and document your choice in the code ?"
   ]
  },
  {
   "cell_type": "code",
   "execution_count": 6,
   "id": "a9ef165e-1aba-4e56-923d-f393a012b133",
   "metadata": {},
   "outputs": [
    {
     "name": "stdin",
     "output_type": "stream",
     "text": [
      "Do you want squares of odd or even? (even/odd):  even\n"
     ]
    },
    {
     "name": "stdout",
     "output_type": "stream",
     "text": [
      "The square of 100 is 10000\n",
      "The square of 102 is 10404\n",
      "The square of 104 is 10816\n",
      "The square of 106 is 11236\n",
      "The square of 108 is 11664\n",
      "The square of 110 is 12100\n",
      "The square of 112 is 12544\n",
      "The square of 114 is 12996\n",
      "The square of 116 is 13456\n",
      "The square of 118 is 13924\n",
      "The square of 120 is 14400\n",
      "The square of 122 is 14884\n",
      "The square of 124 is 15376\n",
      "The square of 126 is 15876\n",
      "The square of 128 is 16384\n",
      "The square of 130 is 16900\n",
      "The square of 132 is 17424\n",
      "The square of 134 is 17956\n",
      "The square of 136 is 18496\n",
      "The square of 138 is 19044\n",
      "The square of 140 is 19600\n",
      "The square of 142 is 20164\n",
      "The square of 144 is 20736\n",
      "The square of 146 is 21316\n",
      "The square of 148 is 21904\n",
      "The square of 150 is 22500\n",
      "The square of 152 is 23104\n",
      "The square of 154 is 23716\n",
      "The square of 156 is 24336\n",
      "The square of 158 is 24964\n",
      "The square of 160 is 25600\n",
      "The square of 162 is 26244\n",
      "The square of 164 is 26896\n",
      "The square of 166 is 27556\n",
      "The square of 168 is 28224\n",
      "The square of 170 is 28900\n",
      "The square of 172 is 29584\n",
      "The square of 174 is 30276\n",
      "The square of 176 is 30976\n",
      "The square of 178 is 31684\n",
      "The square of 180 is 32400\n",
      "The square of 182 is 33124\n",
      "The square of 184 is 33856\n",
      "The square of 186 is 34596\n",
      "The square of 188 is 35344\n",
      "The square of 190 is 36100\n",
      "The square of 192 is 36864\n",
      "The square of 194 is 37636\n",
      "The square of 196 is 38416\n",
      "The square of 198 is 39204\n",
      "The square of 200 is 40000\n"
     ]
    }
   ],
   "source": [
    "choice = input(\"Do you want squares of odd or even? (even/odd): \").strip().lower() # Ask the user whether to print squares of even or odd numb\n",
    "##lower(): This method converts all the characters to lowercase.\n",
    "##strip(): This method removes any white spaces \n",
    "if choice not in [\"even\", \"odd\"]: # If the choice is other than odd or even\n",
    "    print(\"Invalid choice. Please enter 'even' or 'odd'.\") #print an error message\n",
    "else: \n",
    "  for num in range(100, 201):    # Loop through numb from 100 to 200 \n",
    "        if choice == \"even\" and num % 2 == 0:   # If the choice is \"even\" and the numb is even\n",
    "            print(f\"The square of {num} is {num**2}\") # print numb of even \n",
    "        elif choice == \"odd\" and num % 2 != 0: # If the choice is \"odd\" and the numb is odd\n",
    "            print(f\"square of {num} is {num**2}\") # Print the square of the odd numb"
   ]
  },
  {
   "cell_type": "markdown",
   "id": "af7d87b5-141f-44e2-80b4-7e0f61ac5f30",
   "metadata": {},
   "source": [
    "## (Q4)Write a Python program to count the number of occurrences of each word in a user-provided text. The program should:\n",
    "Prompt the user to enter a text string ?\n",
    "Normalize the text by converting it to lowercase and splitting it into words based on spaces ?\n",
    "Count the frequency of each word ?\n",
    "Print the count of each word in the format 'word': , 'count': ?"
   ]
  },
  {
   "cell_type": "code",
   "execution_count": 8,
   "id": "1dfcf318-7293-4685-8b97-3b7aa86ecdb2",
   "metadata": {},
   "outputs": [
    {
     "name": "stdin",
     "output_type": "stream",
     "text": [
      "Enter the text:  Whatever stays in banglore stays in banglore\n"
     ]
    },
    {
     "name": "stdout",
     "output_type": "stream",
     "text": [
      "'whatever': 1\n",
      "'stays': 2\n",
      "'in': 2\n",
      "'banglore': 2\n"
     ]
    }
   ],
   "source": [
    "from collections import Counter # Import counter for counting\n",
    "a = input(\"Enter the text: \")# Get user input\n",
    "b = a.lower().split() # Normalize and split the text into words\n",
    "word_counts = Counter(b)# Count occurrences of each word\n",
    "for word, count in word_counts.items(): #items(): return two objects: a key and its corresponding value,I used this funtion to minimize code or I have to give each word to variable \n",
    "    print(f\"'{word}': {count}\") # Print the words and count the numb of words in 'words' and 'count'"
   ]
  },
  {
   "cell_type": "markdown",
   "id": "000307bd-69dc-4c9a-bd60-7cd28270c420",
   "metadata": {},
   "source": [
    "## (Q5) Write a Python function called is_palindrome that takes a string as input and returns True if the string is a palindrome, and False otherwise. A palindrome is a word, phrase, number, or other sequence of characters that reads the same forward and backward, ignoring spaces, punctuation, and capitalization?"
   ]
  },
  {
   "cell_type": "code",
   "execution_count": 24,
   "id": "399597ff-94ba-494d-9af9-c592eb56b972",
   "metadata": {},
   "outputs": [
    {
     "name": "stdin",
     "output_type": "stream",
     "text": [
      "enter text malayalam\n"
     ]
    },
    {
     "data": {
      "text/plain": [
       "True"
      ]
     },
     "execution_count": 24,
     "metadata": {},
     "output_type": "execute_result"
    }
   ],
   "source": [
    "import re #The re module helps handle text processing tasks efficiently and flexibly\n",
    "def is_palindrome(s): # definig the funtion 'is_palindrome'\n",
    "    s = re.sub(r'[^a-zA-Z0-9]', '', s).lower() #Removes all non-alphanumeric characters from the string and converts it to lowercase.\n",
    "    return s == s[::-1] #Checks if the cleaned string is equal to its reverse\n",
    "x=input(\"enter text\")# asks the the user to give a input\n",
    "is_palindrome(x) # calls thee funtions 'is_palindrome'"
   ]
  },
  {
   "cell_type": "code",
   "execution_count": null,
   "id": "035b4d78-7025-45f2-80f7-6d502b9ac2f0",
   "metadata": {},
   "outputs": [],
   "source": []
  }
 ],
 "metadata": {
  "kernelspec": {
   "display_name": "Python 3 (ipykernel)",
   "language": "python",
   "name": "python3"
  },
  "language_info": {
   "codemirror_mode": {
    "name": "ipython",
    "version": 3
   },
   "file_extension": ".py",
   "mimetype": "text/x-python",
   "name": "python",
   "nbconvert_exporter": "python",
   "pygments_lexer": "ipython3",
   "version": "3.12.4"
  }
 },
 "nbformat": 4,
 "nbformat_minor": 5
}
