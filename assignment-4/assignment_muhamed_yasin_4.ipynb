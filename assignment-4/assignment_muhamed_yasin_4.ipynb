{
 "cells": [
  {
   "cell_type": "markdown",
   "id": "c276e1be-0312-4300-af00-ffd1604960fa",
   "metadata": {},
   "source": [
    "----\n",
    "#                                                           **CHI-SQUARE**\n",
    "---"
   ]
  },
  {
   "cell_type": "markdown",
   "id": "408d002d-9583-4846-8453-b0db614e5618",
   "metadata": {},
   "source": [
    "## *To use the Chi-Square test for independence to determine if there's a significant association between the type of smart home device purchased (Smart Thermostats vs. Smart Lights) and the customer satisfaction level*"
   ]
  },
  {
   "cell_type": "markdown",
   "id": "30dd04d4-2177-4edc-828a-fef9f3425b3d",
   "metadata": {},
   "source": [
    "### **Assignment Tasks:**"
   ]
  },
  {
   "cell_type": "markdown",
   "id": "d7a98c30-7977-48db-a11d-1612fdf148d4",
   "metadata": {},
   "source": [
    "#### 1) State the Hypotheses:"
   ]
  },
  {
   "cell_type": "raw",
   "id": "0bf819c7-c32b-46da-8f22-e0abf5496e1e",
   "metadata": {},
   "source": [
    "- Null Hypothesis (H₀)         : There is no association between device type (Thermostats or Lights) and customer satisfaction\n",
    "- Alternative Hypothesis (H₁)  : There is an association between device type (Thermostats or Lights) and customer satisfaction"
   ]
  },
  {
   "cell_type": "code",
   "execution_count": 5,
   "id": "e1d08480-3008-4c4a-9480-0f3842052c1b",
   "metadata": {},
   "outputs": [],
   "source": [
    "import numpy as np\n",
    "import math"
   ]
  },
  {
   "cell_type": "code",
   "execution_count": 6,
   "id": "7d32772a-4396-4fd8-882a-c5fd649d72a1",
   "metadata": {},
   "outputs": [],
   "source": [
    "import scipy.stats as stats"
   ]
  },
  {
   "cell_type": "code",
   "execution_count": 7,
   "id": "5a129c74-4e1d-463e-9e60-7f0b71bdc017",
   "metadata": {},
   "outputs": [],
   "source": [
    "n  =5\n",
    "df =n-1"
   ]
  },
  {
   "cell_type": "code",
   "execution_count": 8,
   "id": "2b18995e-3cdf-462c-a213-86893d497c2d",
   "metadata": {},
   "outputs": [],
   "source": [
    "s_thrm=[50,80,60,30,20]\n",
    "s_lgt =[70,100,90,50,50]"
   ]
  },
  {
   "cell_type": "markdown",
   "id": "c3dce6f4-505f-4b7f-8314-c0e32dbcf06d",
   "metadata": {},
   "source": [
    "#### 2) Compute the Chi-Square Statistic:"
   ]
  },
  {
   "cell_type": "code",
   "execution_count": 10,
   "id": "2d97f91d-5fce-499f-8d27-8c7ef43e2f05",
   "metadata": {},
   "outputs": [],
   "source": [
    "alpha =0.05\n",
    "ci    =1-alpha"
   ]
  },
  {
   "cell_type": "code",
   "execution_count": 11,
   "id": "4d8e38e3-36f5-4661-9f61-732573877a99",
   "metadata": {},
   "outputs": [
    {
     "data": {
      "text/plain": [
       "Chi2ContingencyResult(statistic=0.0, pvalue=1.0, dof=0, expected_freq=array([50., 80., 60., 30., 20.]))"
      ]
     },
     "execution_count": 11,
     "metadata": {},
     "output_type": "execute_result"
    }
   ],
   "source": [
    "stats.chi2_contingency(s_thrm,s_lgt)"
   ]
  },
  {
   "cell_type": "markdown",
   "id": "40abc16a-1aec-4142-8203-607e8dead599",
   "metadata": {},
   "source": [
    "#### 3) Determine the Critical Value:"
   ]
  },
  {
   "cell_type": "code",
   "execution_count": 13,
   "id": "2b5e107d-6414-4047-8627-3742f9ba9cc1",
   "metadata": {},
   "outputs": [
    {
     "data": {
      "text/plain": [
       "9.487729036781154"
      ]
     },
     "execution_count": 13,
     "metadata": {},
     "output_type": "execute_result"
    }
   ],
   "source": [
    "pvalue=1\n",
    "chi_crt=stats.chi2.ppf(ci,df)\n",
    "chi_crt"
   ]
  },
  {
   "cell_type": "markdown",
   "id": "0f23d908-ecb0-4ab4-829b-4197f33f6c1f",
   "metadata": {},
   "source": [
    "#### 4) Make a Decision:"
   ]
  },
  {
   "cell_type": "code",
   "execution_count": 15,
   "id": "d0a96287-57ee-42ce-af3b-673119708434",
   "metadata": {},
   "outputs": [
    {
     "name": "stdout",
     "output_type": "stream",
     "text": [
      "Fail to reject the null hypothesis, no association between device type and satisfaction.\n"
     ]
    }
   ],
   "source": [
    "if pvalue < alpha:\n",
    "    print(\"Reject the null hypothesis, there is an association between device type and satisfaction.\")\n",
    "else:\n",
    "    print(\"Fail to reject the null hypothesis, no association between device type and satisfaction.\")"
   ]
  },
  {
   "cell_type": "markdown",
   "id": "f8f803de-b317-4eda-9574-175d0a0c41c1",
   "metadata": {},
   "source": [
    "----\n",
    "# **HYPOTHESIS-TEST**\n",
    "----"
   ]
  },
  {
   "cell_type": "markdown",
   "id": "c49b772a-90af-4470-bf8c-ca6a1c1fb645",
   "metadata": {},
   "source": [
    "## *To investigate the restaurant owners' claim about the increase in weekly operating costs using hypothesis testing*"
   ]
  },
  {
   "cell_type": "markdown",
   "id": "aedfa14a-2795-46bd-855c-f291801ffcff",
   "metadata": {},
   "source": [
    "#### **DATA PROVIDED :**"
   ]
  },
  {
   "cell_type": "code",
   "execution_count": 19,
   "id": "f132e5c3-ede3-4324-b0c7-2f3edeae1314",
   "metadata": {},
   "outputs": [],
   "source": [
    "x         = 600\n",
    "s_mean    = 3050\n",
    "th_mean   = 4000  #(1000+5(x))=4000\n",
    "std_dev   = 125\n",
    "n         = 25"
   ]
  },
  {
   "cell_type": "markdown",
   "id": "17b5db13-f390-411b-a441-23d73ad10bb7",
   "metadata": {},
   "source": [
    "### Assignment Tasks:"
   ]
  },
  {
   "cell_type": "code",
   "execution_count": 21,
   "id": "2eaaf943-642f-49f8-a051-613b5f2587e9",
   "metadata": {},
   "outputs": [],
   "source": [
    "import numpy as np\n",
    "import math\n",
    "from scipy.stats import norm as stats "
   ]
  },
  {
   "cell_type": "markdown",
   "id": "cc168eb8-3ee4-4d67-bfa0-cf4a92315086",
   "metadata": {},
   "source": [
    "#### 1) State the Hypotheses statement:"
   ]
  },
  {
   "cell_type": "raw",
   "id": "d9295361-5327-41c2-b4e2-5b6ac96c12cc",
   "metadata": {},
   "source": [
    "- Null Hypothesis (H₀)        : The weekly operating costs follow the model W=1000+5X\n",
    "- Alternative Hypothesis (H₁) : The weekly operating costs are higher than what the model suggests"
   ]
  },
  {
   "cell_type": "markdown",
   "id": "7cc36654-e74b-43a6-91cd-99f779fef8d3",
   "metadata": {},
   "source": [
    "#### 2) Calculate the Test Statistic:"
   ]
  },
  {
   "cell_type": "code",
   "execution_count": 24,
   "id": "8089ec96-c165-4fd3-9add-942dcc5218e1",
   "metadata": {},
   "outputs": [
    {
     "data": {
      "text/plain": [
       "-38.0"
      ]
     },
     "execution_count": 24,
     "metadata": {},
     "output_type": "execute_result"
    }
   ],
   "source": [
    "z_stat = (s_mean - th_mean) / (std_dev / np.sqrt(n))\n",
    "z_stat"
   ]
  },
  {
   "cell_type": "markdown",
   "id": "00efe30a-064b-4397-963d-1229471605f4",
   "metadata": {},
   "source": [
    "#### 3) Determine the Critical Value:"
   ]
  },
  {
   "cell_type": "code",
   "execution_count": 26,
   "id": "c6174196-8147-47cb-99dd-27e342e87224",
   "metadata": {},
   "outputs": [
    {
     "data": {
      "text/plain": [
       "1.6448536269514722"
      ]
     },
     "execution_count": 26,
     "metadata": {},
     "output_type": "execute_result"
    }
   ],
   "source": [
    "z_crt = stats.ppf(1 - alpha)\n",
    "z_crt"
   ]
  },
  {
   "cell_type": "markdown",
   "id": "46d02d3f-9339-4bae-a1c1-464cc4cb6b75",
   "metadata": {},
   "source": [
    "#### 4) Make a Decision:"
   ]
  },
  {
   "cell_type": "code",
   "execution_count": 43,
   "id": "14164792-5ef7-423f-b945-6a6f2d43bae8",
   "metadata": {},
   "outputs": [
    {
     "name": "stdout",
     "output_type": "stream",
     "text": [
      "Fail to reject the null hypothesis, no significant increase in operating cost\n"
     ]
    }
   ],
   "source": [
    "if z_stat > z_crt:\n",
    "    print(\"Reject the null hypothesis, the operating cost has increased\")\n",
    "else:\n",
    "    print(\"Fail to reject the null hypothesis, no significant increase in operating cost\")"
   ]
  }
 ],
 "metadata": {
  "kernelspec": {
   "display_name": "Python 3 (ipykernel)",
   "language": "python",
   "name": "python3"
  },
  "language_info": {
   "codemirror_mode": {
    "name": "ipython",
    "version": 3
   },
   "file_extension": ".py",
   "mimetype": "text/x-python",
   "name": "python",
   "nbconvert_exporter": "python",
   "pygments_lexer": "ipython3",
   "version": "3.12.4"
  }
 },
 "nbformat": 4,
 "nbformat_minor": 5
}
